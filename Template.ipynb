{
 "cells": [
  {
   "cell_type": "markdown",
   "id": "aa2f3804-6e6b-45cb-bab4-32b71fd23b5c",
   "metadata": {},
   "source": [
    "# Template Page"
   ]
  },
  {
   "cell_type": "markdown",
   "id": "445ae19a-186b-4abb-9896-b66c6ea346b4",
   "metadata": {},
   "source": [
    "This is a template Book page you can directly edit for your own purposes. Start by renaming this document and changing the page Title. Remember to update the `_toc.yml` file respectively with the new file name."
   ]
  },
  {
   "cell_type": "markdown",
   "id": "44efec6b-685f-4d64-9eff-66928ab95722",
   "metadata": {},
   "source": [
    "## First Subject"
   ]
  },
  {
   "cell_type": "markdown",
   "id": "97d72fe2-9459-48c3-bbf0-d50ec4b701d0",
   "metadata": {},
   "source": [
    "Here you elaborate about the first subject"
   ]
  },
  {
   "cell_type": "code",
   "execution_count": 3,
   "id": "73adeec4-4038-416c-b5ea-164d951671ba",
   "metadata": {},
   "outputs": [],
   "source": [
    "### python example to visualize the subject\n",
    "import numpy \n",
    "\n"
   ]
  },
  {
   "cell_type": "markdown",
   "id": "9d25b92a-f7c2-4bd3-a8a7-0c113233cca7",
   "metadata": {},
   "source": [
    "## Second Subject"
   ]
  },
  {
   "cell_type": "markdown",
   "id": "449b3784-b994-4f8f-9fe7-560fb6055dbb",
   "metadata": {},
   "source": [
    "Here is a table to present the second subject"
   ]
  }
 ],
 "metadata": {
  "kernelspec": {
   "display_name": "Python 3 (ipykernel)",
   "language": "python",
   "name": "python3"
  },
  "language_info": {
   "codemirror_mode": {
    "name": "ipython",
    "version": 3
   },
   "file_extension": ".py",
   "mimetype": "text/x-python",
   "name": "python",
   "nbconvert_exporter": "python",
   "pygments_lexer": "ipython3",
   "version": "3.10.12"
  }
 },
 "nbformat": 4,
 "nbformat_minor": 5
}
