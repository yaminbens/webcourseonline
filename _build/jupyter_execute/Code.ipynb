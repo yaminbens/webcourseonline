{
 "cells": [
  {
   "cell_type": "markdown",
   "id": "2d84716f-1817-447b-b6f5-57fb7bf871fb",
   "metadata": {},
   "source": [
    "# Code Cell"
   ]
  },
  {
   "cell_type": "code",
   "execution_count": null,
   "id": "4dd0db82-7f52-4ae6-99be-c7c67c853a2e",
   "metadata": {},
   "outputs": [],
   "source": []
  }
 ],
 "metadata": {
  "kernelspec": {
   "display_name": "Python 3 (ipykernel)",
   "language": "python",
   "name": "python3"
  },
  "language_info": {
   "codemirror_mode": {
    "name": "ipython",
    "version": 3
   },
   "file_extension": ".py",
   "mimetype": "text/x-python",
   "name": "python",
   "nbconvert_exporter": "python",
   "pygments_lexer": "ipython3",
   "version": "3.10.12"
  }
 },
 "nbformat": 4,
 "nbformat_minor": 5
}