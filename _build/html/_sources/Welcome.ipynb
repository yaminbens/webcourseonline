{
 "cells": [
  {
   "cell_type": "markdown",
   "id": "db2cc1db-c540-4bfb-a690-9be2a51d0705",
   "metadata": {},
   "source": [
    "# Welcome! \n",
    "This template is an explanatory guide for creating your own webcourse.<br>\n",
    "This course template is based on Barak Hirshberg's Molecular Simulations course template,\n",
    "take a look: https://barakhirshberg.github.io/MolecularSimulations/intro.html\n"
   ]
  },
  {
   "cell_type": "markdown",
   "id": "848922c7-9a4b-40c1-9bfc-8be172721a32",
   "metadata": {},
   "source": [
    "You can open a new notebook buy clicking the plus sign on top of this page and rename the new notebook."
   ]
  },
  {
   "cell_type": "markdown",
   "id": "928b0b29-7758-475a-85c7-470e5840ea75",
   "metadata": {},
   "source": [
    "The two main cell types you will use are Code cell and Markdown Cell. When opening a new cell you can select at the top of the page its function:"
   ]
  },
  {
   "cell_type": "code",
   "execution_count": null,
   "id": "4f5b6699-75f2-4f90-b730-f4771c71ebce",
   "metadata": {},
   "outputs": [],
   "source": [
    "#![title](img/picture.png)\n"
   ]
  },
  {
   "cell_type": "markdown",
   "id": "fdef63f2-71d7-4ecf-8e4a-9cc2ff94f731",
   "metadata": {},
   "source": [
    "Jupyter Book requires 3 additional .yml files: <br>\n",
    "* _config.yml: <br>\n",
    "All of the configuration for your book. You can define metadata for your book, add a book logo and more.\n",
    "* _toc.yml <br>\n",
    "Your book’s structure is determined by a Table of Contents, a structure that Jupyter Book uses to create the order and nesting of pages.\n",
    "* environment.yml <br>\n",
    "\n",
    "These 3 files are already in this repository, You just need to edit them."
   ]
  },
  {
   "cell_type": "markdown",
   "id": "ba47aba0-e6a1-4073-99a4-d32049ceee5e",
   "metadata": {},
   "source": [
    "$$\n",
    "\\begin{align}\n",
    "g &= \\int_a^b f(x)dx \\label{eq1}\\tag{1} \\\\\n",
    "a &= b + c \\label{eq2}\\tag{2}\n",
    "\\end{align}\n",
    "$$\n",
    "\n",
    "See (\\ref{eq1}) and (\\ref{eq2})"
   ]
  },
  {
   "cell_type": "code",
   "execution_count": null,
   "id": "192f480e-b1a3-4917-98e7-095b90f52a20",
   "metadata": {},
   "outputs": [],
   "source": []
  }
 ],
 "metadata": {
  "kernelspec": {
   "display_name": "Python 3 (ipykernel)",
   "language": "python",
   "name": "python3"
  },
  "language_info": {
   "codemirror_mode": {
    "name": "ipython",
    "version": 3
   },
   "file_extension": ".py",
   "mimetype": "text/x-python",
   "name": "python",
   "nbconvert_exporter": "python",
   "pygments_lexer": "ipython3",
   "version": "3.10.12"
  }
 },
 "nbformat": 4,
 "nbformat_minor": 5
}
